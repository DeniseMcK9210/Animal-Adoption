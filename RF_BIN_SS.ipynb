{
 "cells": [
  {
   "cell_type": "code",
   "execution_count": 1,
   "metadata": {},
   "outputs": [],
   "source": [
    "import pandas as pd\n",
    "from sklearn import tree\n",
    "from sklearn.ensemble import RandomForestClassifier"
   ]
  },
  {
   "cell_type": "code",
   "execution_count": 2,
   "metadata": {},
   "outputs": [
    {
     "data": {
      "text/html": [
       "<div>\n",
       "<style scoped>\n",
       "    .dataframe tbody tr th:only-of-type {\n",
       "        vertical-align: middle;\n",
       "    }\n",
       "\n",
       "    .dataframe tbody tr th {\n",
       "        vertical-align: top;\n",
       "    }\n",
       "\n",
       "    .dataframe thead th {\n",
       "        text-align: right;\n",
       "    }\n",
       "</style>\n",
       "<table border=\"1\" class=\"dataframe\">\n",
       "  <thead>\n",
       "    <tr style=\"text-align: right;\">\n",
       "      <th></th>\n",
       "      <th>outcome_type</th>\n",
       "      <th>le_gender</th>\n",
       "      <th>le_color1</th>\n",
       "      <th>le_color2</th>\n",
       "      <th>le_breed1</th>\n",
       "      <th>le_breed2</th>\n",
       "      <th>le_intake_type</th>\n",
       "      <th>le_intake_condition</th>\n",
       "      <th>le_intake_sex</th>\n",
       "      <th>le_outcome_sex</th>\n",
       "      <th>le_outcome_d_m</th>\n",
       "      <th>le_intake_d_m</th>\n",
       "      <th>Outcome_Age_Month</th>\n",
       "      <th>Duration_Day</th>\n",
       "    </tr>\n",
       "  </thead>\n",
       "  <tbody>\n",
       "    <tr>\n",
       "      <th>0</th>\n",
       "      <td>0</td>\n",
       "      <td>1</td>\n",
       "      <td>35</td>\n",
       "      <td>33</td>\n",
       "      <td>326</td>\n",
       "      <td>106</td>\n",
       "      <td>2</td>\n",
       "      <td>5</td>\n",
       "      <td>1</td>\n",
       "      <td>1</td>\n",
       "      <td>5</td>\n",
       "      <td>5</td>\n",
       "      <td>80</td>\n",
       "      <td>1.113889</td>\n",
       "    </tr>\n",
       "    <tr>\n",
       "      <th>1</th>\n",
       "      <td>0</td>\n",
       "      <td>1</td>\n",
       "      <td>35</td>\n",
       "      <td>33</td>\n",
       "      <td>326</td>\n",
       "      <td>106</td>\n",
       "      <td>2</td>\n",
       "      <td>5</td>\n",
       "      <td>1</td>\n",
       "      <td>1</td>\n",
       "      <td>3</td>\n",
       "      <td>3</td>\n",
       "      <td>89</td>\n",
       "      <td>1.259722</td>\n",
       "    </tr>\n",
       "    <tr>\n",
       "      <th>2</th>\n",
       "      <td>0</td>\n",
       "      <td>1</td>\n",
       "      <td>33</td>\n",
       "      <td>36</td>\n",
       "      <td>124</td>\n",
       "      <td>166</td>\n",
       "      <td>1</td>\n",
       "      <td>5</td>\n",
       "      <td>1</td>\n",
       "      <td>1</td>\n",
       "      <td>6</td>\n",
       "      <td>6</td>\n",
       "      <td>120</td>\n",
       "      <td>4.970139</td>\n",
       "    </tr>\n",
       "    <tr>\n",
       "      <th>3</th>\n",
       "      <td>0</td>\n",
       "      <td>1</td>\n",
       "      <td>12</td>\n",
       "      <td>33</td>\n",
       "      <td>309</td>\n",
       "      <td>166</td>\n",
       "      <td>2</td>\n",
       "      <td>3</td>\n",
       "      <td>1</td>\n",
       "      <td>1</td>\n",
       "      <td>2</td>\n",
       "      <td>2</td>\n",
       "      <td>193</td>\n",
       "      <td>0.119444</td>\n",
       "    </tr>\n",
       "    <tr>\n",
       "      <th>4</th>\n",
       "      <td>0</td>\n",
       "      <td>0</td>\n",
       "      <td>2</td>\n",
       "      <td>33</td>\n",
       "      <td>217</td>\n",
       "      <td>120</td>\n",
       "      <td>3</td>\n",
       "      <td>0</td>\n",
       "      <td>2</td>\n",
       "      <td>2</td>\n",
       "      <td>2</td>\n",
       "      <td>2</td>\n",
       "      <td>185</td>\n",
       "      <td>0.870833</td>\n",
       "    </tr>\n",
       "  </tbody>\n",
       "</table>\n",
       "</div>"
      ],
      "text/plain": [
       "   outcome_type  le_gender  le_color1  le_color2  le_breed1  le_breed2  \\\n",
       "0             0          1         35         33        326        106   \n",
       "1             0          1         35         33        326        106   \n",
       "2             0          1         33         36        124        166   \n",
       "3             0          1         12         33        309        166   \n",
       "4             0          0          2         33        217        120   \n",
       "\n",
       "   le_intake_type  le_intake_condition  le_intake_sex  le_outcome_sex  \\\n",
       "0               2                    5              1               1   \n",
       "1               2                    5              1               1   \n",
       "2               1                    5              1               1   \n",
       "3               2                    3              1               1   \n",
       "4               3                    0              2               2   \n",
       "\n",
       "   le_outcome_d_m  le_intake_d_m  Outcome_Age_Month  Duration_Day  \n",
       "0               5              5                 80      1.113889  \n",
       "1               3              3                 89      1.259722  \n",
       "2               6              6                120      4.970139  \n",
       "3               2              2                193      0.119444  \n",
       "4               2              2                185      0.870833  "
      ]
     },
     "execution_count": 2,
     "metadata": {},
     "output_type": "execute_result"
    }
   ],
   "source": [
    "df = pd.read_csv(\"./encoded_bin_df.csv\")\n",
    "df.head()"
   ]
  },
  {
   "cell_type": "code",
   "execution_count": 3,
   "metadata": {},
   "outputs": [],
   "source": [
    "target = df[\"outcome_type\"]\n",
    "target_names = ['No', 'Yes']"
   ]
  },
  {
   "cell_type": "code",
   "execution_count": 4,
   "metadata": {},
   "outputs": [
    {
     "data": {
      "text/html": [
       "<div>\n",
       "<style scoped>\n",
       "    .dataframe tbody tr th:only-of-type {\n",
       "        vertical-align: middle;\n",
       "    }\n",
       "\n",
       "    .dataframe tbody tr th {\n",
       "        vertical-align: top;\n",
       "    }\n",
       "\n",
       "    .dataframe thead th {\n",
       "        text-align: right;\n",
       "    }\n",
       "</style>\n",
       "<table border=\"1\" class=\"dataframe\">\n",
       "  <thead>\n",
       "    <tr style=\"text-align: right;\">\n",
       "      <th></th>\n",
       "      <th>le_gender</th>\n",
       "      <th>le_color1</th>\n",
       "      <th>le_color2</th>\n",
       "      <th>le_breed1</th>\n",
       "      <th>le_breed2</th>\n",
       "      <th>le_intake_type</th>\n",
       "      <th>le_intake_condition</th>\n",
       "      <th>le_intake_sex</th>\n",
       "      <th>le_outcome_sex</th>\n",
       "      <th>le_outcome_d_m</th>\n",
       "      <th>le_intake_d_m</th>\n",
       "      <th>Outcome_Age_Month</th>\n",
       "      <th>Duration_Day</th>\n",
       "    </tr>\n",
       "  </thead>\n",
       "  <tbody>\n",
       "    <tr>\n",
       "      <th>0</th>\n",
       "      <td>1</td>\n",
       "      <td>35</td>\n",
       "      <td>33</td>\n",
       "      <td>326</td>\n",
       "      <td>106</td>\n",
       "      <td>2</td>\n",
       "      <td>5</td>\n",
       "      <td>1</td>\n",
       "      <td>1</td>\n",
       "      <td>5</td>\n",
       "      <td>5</td>\n",
       "      <td>80</td>\n",
       "      <td>1.113889</td>\n",
       "    </tr>\n",
       "    <tr>\n",
       "      <th>1</th>\n",
       "      <td>1</td>\n",
       "      <td>35</td>\n",
       "      <td>33</td>\n",
       "      <td>326</td>\n",
       "      <td>106</td>\n",
       "      <td>2</td>\n",
       "      <td>5</td>\n",
       "      <td>1</td>\n",
       "      <td>1</td>\n",
       "      <td>3</td>\n",
       "      <td>3</td>\n",
       "      <td>89</td>\n",
       "      <td>1.259722</td>\n",
       "    </tr>\n",
       "    <tr>\n",
       "      <th>2</th>\n",
       "      <td>1</td>\n",
       "      <td>33</td>\n",
       "      <td>36</td>\n",
       "      <td>124</td>\n",
       "      <td>166</td>\n",
       "      <td>1</td>\n",
       "      <td>5</td>\n",
       "      <td>1</td>\n",
       "      <td>1</td>\n",
       "      <td>6</td>\n",
       "      <td>6</td>\n",
       "      <td>120</td>\n",
       "      <td>4.970139</td>\n",
       "    </tr>\n",
       "    <tr>\n",
       "      <th>3</th>\n",
       "      <td>1</td>\n",
       "      <td>12</td>\n",
       "      <td>33</td>\n",
       "      <td>309</td>\n",
       "      <td>166</td>\n",
       "      <td>2</td>\n",
       "      <td>3</td>\n",
       "      <td>1</td>\n",
       "      <td>1</td>\n",
       "      <td>2</td>\n",
       "      <td>2</td>\n",
       "      <td>193</td>\n",
       "      <td>0.119444</td>\n",
       "    </tr>\n",
       "    <tr>\n",
       "      <th>4</th>\n",
       "      <td>0</td>\n",
       "      <td>2</td>\n",
       "      <td>33</td>\n",
       "      <td>217</td>\n",
       "      <td>120</td>\n",
       "      <td>3</td>\n",
       "      <td>0</td>\n",
       "      <td>2</td>\n",
       "      <td>2</td>\n",
       "      <td>2</td>\n",
       "      <td>2</td>\n",
       "      <td>185</td>\n",
       "      <td>0.870833</td>\n",
       "    </tr>\n",
       "  </tbody>\n",
       "</table>\n",
       "</div>"
      ],
      "text/plain": [
       "   le_gender  le_color1  le_color2  le_breed1  le_breed2  le_intake_type  \\\n",
       "0          1         35         33        326        106               2   \n",
       "1          1         35         33        326        106               2   \n",
       "2          1         33         36        124        166               1   \n",
       "3          1         12         33        309        166               2   \n",
       "4          0          2         33        217        120               3   \n",
       "\n",
       "   le_intake_condition  le_intake_sex  le_outcome_sex  le_outcome_d_m  \\\n",
       "0                    5              1               1               5   \n",
       "1                    5              1               1               3   \n",
       "2                    5              1               1               6   \n",
       "3                    3              1               1               2   \n",
       "4                    0              2               2               2   \n",
       "\n",
       "   le_intake_d_m  Outcome_Age_Month  Duration_Day  \n",
       "0              5                 80      1.113889  \n",
       "1              3                 89      1.259722  \n",
       "2              6                120      4.970139  \n",
       "3              2                193      0.119444  \n",
       "4              2                185      0.870833  "
      ]
     },
     "execution_count": 4,
     "metadata": {},
     "output_type": "execute_result"
    }
   ],
   "source": [
    "data = df.drop('outcome_type', axis=1)\n",
    "variables = data.columns\n",
    "data.head()"
   ]
  },
  {
   "cell_type": "code",
   "execution_count": 5,
   "metadata": {},
   "outputs": [],
   "source": [
    "from sklearn.model_selection import train_test_split\n",
    "X_train, X_test, y_train, y_test = train_test_split(data, target, random_state=42)"
   ]
  },
  {
   "cell_type": "code",
   "execution_count": 6,
   "metadata": {},
   "outputs": [
    {
     "data": {
      "text/plain": [
       "0.7696127776659285"
      ]
     },
     "execution_count": 6,
     "metadata": {},
     "output_type": "execute_result"
    }
   ],
   "source": [
    "clf = tree.DecisionTreeClassifier()\n",
    "clf = clf.fit(X_train, y_train)\n",
    "clf.score(X_test, y_test)"
   ]
  },
  {
   "cell_type": "code",
   "execution_count": 7,
   "metadata": {},
   "outputs": [
    {
     "data": {
      "text/plain": [
       "0.8332997785383531"
      ]
     },
     "execution_count": 7,
     "metadata": {},
     "output_type": "execute_result"
    }
   ],
   "source": [
    "from sklearn.ensemble import RandomForestClassifier\n",
    "rf = RandomForestClassifier(n_estimators=200)\n",
    "rf = rf.fit(X_train, y_train)\n",
    "rf.score(X_test, y_test)"
   ]
  },
  {
   "cell_type": "code",
   "execution_count": 10,
   "metadata": {},
   "outputs": [
    {
     "data": {
      "text/plain": [
       "[(0.29715887448224226, 'Duration_Day'),\n",
       " (0.16735685388932656, 'le_outcome_sex'),\n",
       " (0.1176102097855521, 'Outcome_Age_Month'),\n",
       " (0.07759866806375458, 'le_breed1'),\n",
       " (0.07475170492108706, 'le_intake_type'),\n",
       " (0.05048755538950869, 'le_color1'),\n",
       " (0.0460583553280818, 'le_intake_d_m'),\n",
       " (0.04587478716303461, 'le_outcome_d_m'),\n",
       " (0.03984178326764448, 'le_intake_sex'),\n",
       " (0.03544184844475134, 'le_color2'),\n",
       " (0.030587944403204958, 'le_breed2'),\n",
       " (0.010676021546943219, 'le_intake_condition'),\n",
       " (0.006555393314868255, 'le_gender')]"
      ]
     },
     "execution_count": 10,
     "metadata": {},
     "output_type": "execute_result"
    }
   ],
   "source": [
    "sorted(zip(rf.feature_importances_, variables), reverse=True)"
   ]
  },
  {
   "cell_type": "code",
   "execution_count": 20,
   "metadata": {},
   "outputs": [],
   "source": [
    "from sklearn.model_selection import cross_val_score\n",
    "from sklearn.metrics import classification_report, confusion_matrix"
   ]
  },
  {
   "cell_type": "code",
   "execution_count": 22,
   "metadata": {},
   "outputs": [],
   "source": [
    "rf_cv_score = cross_val_score(rf, data, target, cv=10, scoring='roc_auc')"
   ]
  },
  {
   "cell_type": "code",
   "execution_count": 25,
   "metadata": {},
   "outputs": [],
   "source": [
    "rf_predict = rf.predict(X_test)"
   ]
  },
  {
   "cell_type": "code",
   "execution_count": 26,
   "metadata": {},
   "outputs": [
    {
     "name": "stdout",
     "output_type": "stream",
     "text": [
      "=== Confusion Matrix ===\n",
      "[[6303 1684]\n",
      " [ 802 6112]]\n",
      "\n",
      "\n",
      "=== Classification Report ===\n",
      "              precision    recall  f1-score   support\n",
      "\n",
      "           0       0.89      0.79      0.84      7987\n",
      "           1       0.78      0.88      0.83      6914\n",
      "\n",
      "   micro avg       0.83      0.83      0.83     14901\n",
      "   macro avg       0.84      0.84      0.83     14901\n",
      "weighted avg       0.84      0.83      0.83     14901\n",
      "\n",
      "\n",
      "\n",
      "=== All AUC Scores ===\n",
      "[0.92245446 0.85825867 0.84008749 0.87103636 0.8576214  0.88775934\n",
      " 0.89416387 0.89693286 0.92131951 0.91605143]\n",
      "\n",
      "\n",
      "=== Mean AUC Score ===\n",
      "Mean AUC Score - Random Forest:  0.8865685394336354\n"
     ]
    }
   ],
   "source": [
    "print(\"=== Confusion Matrix ===\")\n",
    "print(confusion_matrix(y_test, rf_predict))\n",
    "print('\\n')\n",
    "print(\"=== Classification Report ===\")\n",
    "print(classification_report(y_test, rf_predict))\n",
    "print('\\n')\n",
    "print(\"=== All AUC Scores ===\")\n",
    "print(rf_cv_score)\n",
    "print('\\n')\n",
    "print(\"=== Mean AUC Score ===\")\n",
    "print(\"Mean AUC Score - Random Forest: \", rf_cv_score.mean())"
   ]
  },
  {
   "cell_type": "code",
   "execution_count": 28,
   "metadata": {},
   "outputs": [
    {
     "name": "stdout",
     "output_type": "stream",
     "text": [
      "The sensitivity is: 1.0\n",
      "The specificity is: 1.0\n"
     ]
    }
   ],
   "source": [
    "print('The sensitivity is: ' + str(conf_matrix[1][1]/(conf_matrix[1][0] + conf_matrix[1][1])))\n",
    "\n",
    "print('The specificity is: ' + str(conf_matrix[0][0]/(conf_matrix[0][0] + conf_matrix[0][1])))"
   ]
  },
  {
   "cell_type": "code",
   "execution_count": 31,
   "metadata": {},
   "outputs": [],
   "source": [
    "import matplotlib.pyplot as plt\n",
    "import seaborn as sns"
   ]
  },
  {
   "cell_type": "code",
   "execution_count": 42,
   "metadata": {},
   "outputs": [
    {
     "data": {
      "image/png": "[encoded data removed]",
      "text/plain": [
       "<Figure size 648x648 with 2 Axes>"
      ]
     },
     "metadata": {
      "needs_background": "light"
     },
     "output_type": "display_data"
    }
   ],
   "source": [
    "plt.figure(figsize=(9,9))\n",
    "sns.heatmap((confusion_matrix(y_test, rf_predict)), annot=True, fmt=\".3f\", linewidths=.5, square = True, cmap = 'Blues_r');\n",
    "plt.ylabel('Actual');\n",
    "plt.xlabel('Predicted');\n",
    "all_sample_title = 'Accuracy Score: 0.8332997785383531'\n",
    "plt.title(all_sample_title, size = 15);"
   ]
  }
 ],
 "metadata": {
  "kernelspec": {
   "display_name": "PythonData",
   "language": "python",
   "name": "pythondata"
  },
  "language_info": {
   "codemirror_mode": {
    "name": "ipython",
    "version": 3
   },
   "file_extension": ".py",
   "mimetype": "text/x-python",
   "name": "python",
   "nbconvert_exporter": "python",
   "pygments_lexer": "ipython3",
   "version": "3.6.8"
  }
 },
 "nbformat": 4,
 "nbformat_minor": 2
}
