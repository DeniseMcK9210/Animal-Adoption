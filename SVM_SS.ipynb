{
 "cells": [
  {
   "cell_type": "code",
   "execution_count": 1,
   "metadata": {},
   "outputs": [],
   "source": [
    "import matplotlib.pyplot as plt\n",
    "from sklearn.neighbors import KNeighborsClassifier\n",
    "import pandas as pd\n",
    "import numpy as np\n"
   ]
  },
  {
   "cell_type": "code",
   "execution_count": 2,
   "metadata": {},
   "outputs": [
    {
     "data": {
      "text/html": [
       "<div>\n",
       "<style scoped>\n",
       "    .dataframe tbody tr th:only-of-type {\n",
       "        vertical-align: middle;\n",
       "    }\n",
       "\n",
       "    .dataframe tbody tr th {\n",
       "        vertical-align: top;\n",
       "    }\n",
       "\n",
       "    .dataframe thead th {\n",
       "        text-align: right;\n",
       "    }\n",
       "</style>\n",
       "<table border=\"1\" class=\"dataframe\">\n",
       "  <thead>\n",
       "    <tr style=\"text-align: right;\">\n",
       "      <th></th>\n",
       "      <th>le_gender</th>\n",
       "      <th>le_color1</th>\n",
       "      <th>le_color2</th>\n",
       "      <th>le_breed1</th>\n",
       "      <th>le_breed2</th>\n",
       "      <th>le_intake_type</th>\n",
       "      <th>le_intake_condition</th>\n",
       "      <th>le_intake_sex</th>\n",
       "      <th>le_outcome_type</th>\n",
       "      <th>le_outcome_sex</th>\n",
       "      <th>le_outcome_d_m</th>\n",
       "      <th>le_intake_d_m</th>\n",
       "      <th>Outcome_Age_Month</th>\n",
       "      <th>Duration_Day</th>\n",
       "    </tr>\n",
       "  </thead>\n",
       "  <tbody>\n",
       "    <tr>\n",
       "      <th>0</th>\n",
       "      <td>1</td>\n",
       "      <td>35</td>\n",
       "      <td>33</td>\n",
       "      <td>326</td>\n",
       "      <td>106</td>\n",
       "      <td>2</td>\n",
       "      <td>5</td>\n",
       "      <td>1</td>\n",
       "      <td>5</td>\n",
       "      <td>1</td>\n",
       "      <td>5</td>\n",
       "      <td>5</td>\n",
       "      <td>80</td>\n",
       "      <td>1.113889</td>\n",
       "    </tr>\n",
       "    <tr>\n",
       "      <th>1</th>\n",
       "      <td>1</td>\n",
       "      <td>35</td>\n",
       "      <td>33</td>\n",
       "      <td>326</td>\n",
       "      <td>106</td>\n",
       "      <td>2</td>\n",
       "      <td>5</td>\n",
       "      <td>1</td>\n",
       "      <td>5</td>\n",
       "      <td>1</td>\n",
       "      <td>3</td>\n",
       "      <td>3</td>\n",
       "      <td>89</td>\n",
       "      <td>1.259722</td>\n",
       "    </tr>\n",
       "    <tr>\n",
       "      <th>2</th>\n",
       "      <td>1</td>\n",
       "      <td>33</td>\n",
       "      <td>36</td>\n",
       "      <td>124</td>\n",
       "      <td>166</td>\n",
       "      <td>1</td>\n",
       "      <td>5</td>\n",
       "      <td>1</td>\n",
       "      <td>7</td>\n",
       "      <td>1</td>\n",
       "      <td>6</td>\n",
       "      <td>6</td>\n",
       "      <td>120</td>\n",
       "      <td>4.970139</td>\n",
       "    </tr>\n",
       "    <tr>\n",
       "      <th>3</th>\n",
       "      <td>1</td>\n",
       "      <td>12</td>\n",
       "      <td>33</td>\n",
       "      <td>309</td>\n",
       "      <td>166</td>\n",
       "      <td>2</td>\n",
       "      <td>3</td>\n",
       "      <td>1</td>\n",
       "      <td>5</td>\n",
       "      <td>1</td>\n",
       "      <td>2</td>\n",
       "      <td>2</td>\n",
       "      <td>193</td>\n",
       "      <td>0.119444</td>\n",
       "    </tr>\n",
       "    <tr>\n",
       "      <th>4</th>\n",
       "      <td>0</td>\n",
       "      <td>2</td>\n",
       "      <td>33</td>\n",
       "      <td>217</td>\n",
       "      <td>120</td>\n",
       "      <td>3</td>\n",
       "      <td>0</td>\n",
       "      <td>2</td>\n",
       "      <td>5</td>\n",
       "      <td>2</td>\n",
       "      <td>2</td>\n",
       "      <td>2</td>\n",
       "      <td>185</td>\n",
       "      <td>0.870833</td>\n",
       "    </tr>\n",
       "  </tbody>\n",
       "</table>\n",
       "</div>"
      ],
      "text/plain": [
       "   le_gender  le_color1  le_color2  le_breed1  le_breed2  le_intake_type  \\\n",
       "0          1         35         33        326        106               2   \n",
       "1          1         35         33        326        106               2   \n",
       "2          1         33         36        124        166               1   \n",
       "3          1         12         33        309        166               2   \n",
       "4          0          2         33        217        120               3   \n",
       "\n",
       "   le_intake_condition  le_intake_sex  le_outcome_type  le_outcome_sex  \\\n",
       "0                    5              1                5               1   \n",
       "1                    5              1                5               1   \n",
       "2                    5              1                7               1   \n",
       "3                    3              1                5               1   \n",
       "4                    0              2                5               2   \n",
       "\n",
       "   le_outcome_d_m  le_intake_d_m  Outcome_Age_Month  Duration_Day  \n",
       "0               5              5                 80      1.113889  \n",
       "1               3              3                 89      1.259722  \n",
       "2               6              6                120      4.970139  \n",
       "3               2              2                193      0.119444  \n",
       "4               2              2                185      0.870833  "
      ]
     },
     "execution_count": 2,
     "metadata": {},
     "output_type": "execute_result"
    }
   ],
   "source": [
    "df = pd.read_csv('encoded_df.csv')\n",
    "df.head()"
   ]
  },
  {
   "cell_type": "code",
   "execution_count": 3,
   "metadata": {},
   "outputs": [],
   "source": [
    "target = df[\"le_outcome_type\"]\n",
    "target_names = [\"Adoption\", \"Died\", \"Disposal\", \"Euthanasia\", \"Missing\", \"Return to Owner\", \"Rto-Adopt\", \"Transfer\"]"
   ]
  },
  {
   "cell_type": "code",
   "execution_count": 4,
   "metadata": {},
   "outputs": [
    {
     "data": {
      "text/html": [
       "<div>\n",
       "<style scoped>\n",
       "    .dataframe tbody tr th:only-of-type {\n",
       "        vertical-align: middle;\n",
       "    }\n",
       "\n",
       "    .dataframe tbody tr th {\n",
       "        vertical-align: top;\n",
       "    }\n",
       "\n",
       "    .dataframe thead th {\n",
       "        text-align: right;\n",
       "    }\n",
       "</style>\n",
       "<table border=\"1\" class=\"dataframe\">\n",
       "  <thead>\n",
       "    <tr style=\"text-align: right;\">\n",
       "      <th></th>\n",
       "      <th>le_gender</th>\n",
       "      <th>le_color1</th>\n",
       "      <th>le_color2</th>\n",
       "      <th>le_breed1</th>\n",
       "      <th>le_breed2</th>\n",
       "      <th>le_intake_type</th>\n",
       "      <th>le_intake_condition</th>\n",
       "      <th>le_intake_sex</th>\n",
       "      <th>le_outcome_sex</th>\n",
       "      <th>le_outcome_d_m</th>\n",
       "      <th>le_intake_d_m</th>\n",
       "      <th>Outcome_Age_Month</th>\n",
       "      <th>Duration_Day</th>\n",
       "    </tr>\n",
       "  </thead>\n",
       "  <tbody>\n",
       "    <tr>\n",
       "      <th>0</th>\n",
       "      <td>1</td>\n",
       "      <td>35</td>\n",
       "      <td>33</td>\n",
       "      <td>326</td>\n",
       "      <td>106</td>\n",
       "      <td>2</td>\n",
       "      <td>5</td>\n",
       "      <td>1</td>\n",
       "      <td>1</td>\n",
       "      <td>5</td>\n",
       "      <td>5</td>\n",
       "      <td>80</td>\n",
       "      <td>1.113889</td>\n",
       "    </tr>\n",
       "    <tr>\n",
       "      <th>1</th>\n",
       "      <td>1</td>\n",
       "      <td>35</td>\n",
       "      <td>33</td>\n",
       "      <td>326</td>\n",
       "      <td>106</td>\n",
       "      <td>2</td>\n",
       "      <td>5</td>\n",
       "      <td>1</td>\n",
       "      <td>1</td>\n",
       "      <td>3</td>\n",
       "      <td>3</td>\n",
       "      <td>89</td>\n",
       "      <td>1.259722</td>\n",
       "    </tr>\n",
       "    <tr>\n",
       "      <th>2</th>\n",
       "      <td>1</td>\n",
       "      <td>33</td>\n",
       "      <td>36</td>\n",
       "      <td>124</td>\n",
       "      <td>166</td>\n",
       "      <td>1</td>\n",
       "      <td>5</td>\n",
       "      <td>1</td>\n",
       "      <td>1</td>\n",
       "      <td>6</td>\n",
       "      <td>6</td>\n",
       "      <td>120</td>\n",
       "      <td>4.970139</td>\n",
       "    </tr>\n",
       "    <tr>\n",
       "      <th>3</th>\n",
       "      <td>1</td>\n",
       "      <td>12</td>\n",
       "      <td>33</td>\n",
       "      <td>309</td>\n",
       "      <td>166</td>\n",
       "      <td>2</td>\n",
       "      <td>3</td>\n",
       "      <td>1</td>\n",
       "      <td>1</td>\n",
       "      <td>2</td>\n",
       "      <td>2</td>\n",
       "      <td>193</td>\n",
       "      <td>0.119444</td>\n",
       "    </tr>\n",
       "    <tr>\n",
       "      <th>4</th>\n",
       "      <td>0</td>\n",
       "      <td>2</td>\n",
       "      <td>33</td>\n",
       "      <td>217</td>\n",
       "      <td>120</td>\n",
       "      <td>3</td>\n",
       "      <td>0</td>\n",
       "      <td>2</td>\n",
       "      <td>2</td>\n",
       "      <td>2</td>\n",
       "      <td>2</td>\n",
       "      <td>185</td>\n",
       "      <td>0.870833</td>\n",
       "    </tr>\n",
       "  </tbody>\n",
       "</table>\n",
       "</div>"
      ],
      "text/plain": [
       "   le_gender  le_color1  le_color2  le_breed1  le_breed2  le_intake_type  \\\n",
       "0          1         35         33        326        106               2   \n",
       "1          1         35         33        326        106               2   \n",
       "2          1         33         36        124        166               1   \n",
       "3          1         12         33        309        166               2   \n",
       "4          0          2         33        217        120               3   \n",
       "\n",
       "   le_intake_condition  le_intake_sex  le_outcome_sex  le_outcome_d_m  \\\n",
       "0                    5              1               1               5   \n",
       "1                    5              1               1               3   \n",
       "2                    5              1               1               6   \n",
       "3                    3              1               1               2   \n",
       "4                    0              2               2               2   \n",
       "\n",
       "   le_intake_d_m  Outcome_Age_Month  Duration_Day  \n",
       "0              5                 80      1.113889  \n",
       "1              3                 89      1.259722  \n",
       "2              6                120      4.970139  \n",
       "3              2                193      0.119444  \n",
       "4              2                185      0.870833  "
      ]
     },
     "execution_count": 4,
     "metadata": {},
     "output_type": "execute_result"
    }
   ],
   "source": [
    "data = df.drop(\"le_outcome_type\", axis=1)\n",
    "variables = data.columns\n",
    "data.head()"
   ]
  },
  {
   "cell_type": "code",
   "execution_count": 5,
   "metadata": {},
   "outputs": [],
   "source": [
    "from sklearn.model_selection import train_test_split\n",
    "X_train, X_test, y_train, y_test = train_test_split(data, target, random_state=42)"
   ]
  },
  {
   "cell_type": "code",
   "execution_count": 6,
   "metadata": {},
   "outputs": [
    {
     "name": "stderr",
     "output_type": "stream",
     "text": [
      "/Users/suprajasharma/anaconda3/envs/PythonData/lib/python3.6/site-packages/sklearn/preprocessing/data.py:334: DataConversionWarning: Data with input dtype int64, float64 were all converted to float64 by MinMaxScaler.\n",
      "  return self.partial_fit(X, y)\n"
     ]
    }
   ],
   "source": [
    "from sklearn.preprocessing import MinMaxScaler\n",
    "scaling = MinMaxScaler(feature_range=(-1,1)).fit(X_train)\n",
    "X_train = scaling.transform(X_train)\n",
    "X_test = scaling.transform(X_test)"
   ]
  },
  {
   "cell_type": "code",
   "execution_count": 7,
   "metadata": {},
   "outputs": [
    {
     "data": {
      "text/plain": [
       "SVC(C=1.0, cache_size=200, class_weight=None, coef0=0.0,\n",
       "  decision_function_shape='ovr', degree=3, gamma='auto_deprecated',\n",
       "  kernel='linear', max_iter=-1, probability=False, random_state=None,\n",
       "  shrinking=True, tol=0.001, verbose=False)"
      ]
     },
     "execution_count": 7,
     "metadata": {},
     "output_type": "execute_result"
    }
   ],
   "source": [
    "from sklearn.svm import SVC\n",
    "model = SVC(kernel='linear')\n",
    "model"
   ]
  },
  {
   "cell_type": "code",
   "execution_count": 8,
   "metadata": {},
   "outputs": [],
   "source": [
    "from sklearn.model_selection import GridSearchCV\n",
    "param_grid = {'C': [1, 10, 100, 1000, 10000],\n",
    "             'gamma': [0.0001, 0.00001, 0.00001, 0.0000001]}\n",
    "grid = GridSearchCV(model, param_grid, verbose=3)"
   ]
  },
  {
   "cell_type": "raw",
   "metadata": {},
   "source": [
    "grid.fit(X_train, y_train)"
   ]
  },
  {
   "cell_type": "code",
   "execution_count": null,
   "metadata": {},
   "outputs": [
    {
     "name": "stderr",
     "output_type": "stream",
     "text": [
      "/Users/suprajasharma/anaconda3/envs/PythonData/lib/python3.6/site-packages/sklearn/model_selection/_split.py:2053: FutureWarning: You should specify a value for 'cv' instead of relying on the default value. The default value will change from 3 to 5 in version 0.22.\n",
      "  warnings.warn(CV_WARNING, FutureWarning)\n",
      "[Parallel(n_jobs=1)]: Using backend SequentialBackend with 1 concurrent workers.\n"
     ]
    },
    {
     "name": "stdout",
     "output_type": "stream",
     "text": [
      "Fitting 3 folds for each of 20 candidates, totalling 60 fits\n",
      "[CV] C=1, gamma=0.0001 ...............................................\n",
      "[CV] ...... C=1, gamma=0.0001, score=0.6517479702073408, total=  51.6s\n",
      "[CV] C=1, gamma=0.0001 ...............................................\n"
     ]
    },
    {
     "name": "stderr",
     "output_type": "stream",
     "text": [
      "[Parallel(n_jobs=1)]: Done   1 out of   1 | elapsed:  1.1min remaining:    0.0s\n"
     ]
    },
    {
     "name": "stdout",
     "output_type": "stream",
     "text": [
      "[CV] ...... C=1, gamma=0.0001, score=0.6476944761393382, total=  50.9s\n",
      "[CV] C=1, gamma=0.0001 ...............................................\n"
     ]
    },
    {
     "name": "stderr",
     "output_type": "stream",
     "text": [
      "[Parallel(n_jobs=1)]: Done   2 out of   2 | elapsed:  2.2min remaining:    0.0s\n"
     ]
    },
    {
     "name": "stdout",
     "output_type": "stream",
     "text": [
      "[CV] ...... C=1, gamma=0.0001, score=0.6537790307423815, total=  52.8s\n",
      "[CV] C=1, gamma=1e-05 ................................................\n",
      "[CV] ....... C=1, gamma=1e-05, score=0.6517479702073408, total=  49.1s\n",
      "[CV] C=1, gamma=1e-05 ................................................\n",
      "[CV] ....... C=1, gamma=1e-05, score=0.6476944761393382, total=  49.0s\n",
      "[CV] C=1, gamma=1e-05 ................................................\n",
      "[CV] ....... C=1, gamma=1e-05, score=0.6537790307423815, total=  50.8s\n",
      "[CV] C=1, gamma=1e-05 ................................................\n",
      "[CV] ....... C=1, gamma=1e-05, score=0.6517479702073408, total=  45.7s\n",
      "[CV] C=1, gamma=1e-05 ................................................\n",
      "[CV] ....... C=1, gamma=1e-05, score=0.6476944761393382, total=  45.2s\n",
      "[CV] C=1, gamma=1e-05 ................................................\n",
      "[CV] ....... C=1, gamma=1e-05, score=0.6537790307423815, total=  51.1s\n",
      "[CV] C=1, gamma=1e-07 ................................................\n",
      "[CV] ....... C=1, gamma=1e-07, score=0.6517479702073408, total=  49.3s\n",
      "[CV] C=1, gamma=1e-07 ................................................\n",
      "[CV] ....... C=1, gamma=1e-07, score=0.6476944761393382, total=  45.3s\n",
      "[CV] C=1, gamma=1e-07 ................................................\n",
      "[CV] ....... C=1, gamma=1e-07, score=0.6537790307423815, total=  46.9s\n",
      "[CV] C=10, gamma=0.0001 ..............................................\n",
      "[CV] ..... C=10, gamma=0.0001, score=0.6532912836341677, total= 1.6min\n",
      "[CV] C=10, gamma=0.0001 ..............................................\n",
      "[CV] ..... C=10, gamma=0.0001, score=0.6482985435264111, total= 1.7min\n",
      "[CV] C=10, gamma=0.0001 ..............................................\n",
      "[CV] ...... C=10, gamma=0.0001, score=0.654517384883877, total= 1.7min\n",
      "[CV] C=10, gamma=1e-05 ...............................................\n",
      "[CV] ...... C=10, gamma=1e-05, score=0.6532912836341677, total= 1.7min\n",
      "[CV] C=10, gamma=1e-05 ...............................................\n",
      "[CV] ...... C=10, gamma=1e-05, score=0.6482985435264111, total= 1.9min\n",
      "[CV] C=10, gamma=1e-05 ...............................................\n",
      "[CV] ....... C=10, gamma=1e-05, score=0.654517384883877, total= 1.7min\n",
      "[CV] C=10, gamma=1e-05 ...............................................\n",
      "[CV] ...... C=10, gamma=1e-05, score=0.6532912836341677, total= 1.8min\n",
      "[CV] C=10, gamma=1e-05 ...............................................\n",
      "[CV] ...... C=10, gamma=1e-05, score=0.6482985435264111, total= 1.8min\n",
      "[CV] C=10, gamma=1e-05 ...............................................\n",
      "[CV] ....... C=10, gamma=1e-05, score=0.654517384883877, total= 1.9min\n",
      "[CV] C=10, gamma=1e-07 ...............................................\n",
      "[CV] ...... C=10, gamma=1e-07, score=0.6532912836341677, total= 2.0min\n",
      "[CV] C=10, gamma=1e-07 ...............................................\n",
      "[CV] ...... C=10, gamma=1e-07, score=0.6482985435264111, total= 1.9min\n",
      "[CV] C=10, gamma=1e-07 ...............................................\n",
      "[CV] ....... C=10, gamma=1e-07, score=0.654517384883877, total= 1.9min\n",
      "[CV] C=100, gamma=0.0001 .............................................\n"
     ]
    }
   ],
   "source": [
    "grid.fit(X_train, y_train)"
   ]
  },
  {
   "cell_type": "code",
   "execution_count": null,
   "metadata": {},
   "outputs": [],
   "source": []
  }
 ],
 "metadata": {
  "kernelspec": {
   "display_name": "PythonData",
   "language": "python",
   "name": "pythondata"
  },
  "language_info": {
   "codemirror_mode": {
    "name": "ipython",
    "version": 3
   },
   "file_extension": ".py",
   "mimetype": "text/x-python",
   "name": "python",
   "nbconvert_exporter": "python",
   "pygments_lexer": "ipython3",
   "version": "3.6.8"
  }
 },
 "nbformat": 4,
 "nbformat_minor": 2
}
