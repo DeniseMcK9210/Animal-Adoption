{
 "cells": [
  {
   "cell_type": "code",
   "execution_count": 1,
   "metadata": {},
   "outputs": [],
   "source": [
    "import pandas as pd\n",
    "import numpy as np"
   ]
  },
  {
   "cell_type": "code",
   "execution_count": 3,
   "metadata": {},
   "outputs": [
    {
     "data": {
      "text/plain": [
       "['Animal ID',\n",
       " 'Name',\n",
       " 'Date of Birth',\n",
       " 'Gender',\n",
       " 'Color1',\n",
       " 'Color2',\n",
       " 'Breed1',\n",
       " 'Breed2',\n",
       " 'Found Street',\n",
       " 'Found City',\n",
       " 'Found State',\n",
       " 'Intake_Date',\n",
       " 'Intake Type',\n",
       " 'Intake Condition',\n",
       " 'Age upon Intake',\n",
       " 'Intake_Sex',\n",
       " 'Outcome_Date',\n",
       " 'Outcome Type',\n",
       " 'Age upon Outcome',\n",
       " 'Outcome_Age_Months',\n",
       " 'Outcome_Sex',\n",
       " 'AAC_Duration']"
      ]
     },
     "execution_count": 3,
     "metadata": {},
     "output_type": "execute_result"
    }
   ],
   "source": [
    "df = pd.read_csv(\"./Data/AAC_In_Out_Final.csv\")\n",
    "df.head()\n",
    "list(df.columns)"
   ]
  },
  {
   "cell_type": "code",
   "execution_count": null,
   "metadata": {},
   "outputs": [],
   "source": []
  }
 ],
 "metadata": {
  "kernelspec": {
   "display_name": "PythonData",
   "language": "python",
   "name": "pythondata"
  },
  "language_info": {
   "codemirror_mode": {
    "name": "ipython",
    "version": 3
   },
   "file_extension": ".py",
   "mimetype": "text/x-python",
   "name": "python",
   "nbconvert_exporter": "python",
   "pygments_lexer": "ipython3",
   "version": "3.6.8"
  }
 },
 "nbformat": 4,
 "nbformat_minor": 2
}
