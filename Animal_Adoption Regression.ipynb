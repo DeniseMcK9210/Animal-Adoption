{
 "cells": [
  {
   "cell_type": "code",
   "execution_count": 2,
   "metadata": {},
   "outputs": [],
   "source": [
    "%matplotlib inline\n",
    "import matplotlib.pyplot as plt\n",
    "import numpy as np\n",
    "import pandas as pd\n"
   ]
  },
  {
   "cell_type": "code",
   "execution_count": 13,
   "metadata": {},
   "outputs": [
    {
     "data": {
      "text/plain": [
       "<matplotlib.axes._subplots.AxesSubplot at 0x12adf6f60>"
      ]
     },
     "execution_count": 13,
     "metadata": {},
     "output_type": "execute_result"
    },
    {
     "data": {
      "image/png": "[encoded data removed]",
      "text/plain": [
       "<Figure size 432x288 with 1 Axes>"
      ]
     },
     "metadata": {
      "needs_background": "light"
     },
     "output_type": "display_data"
    }
   ],
   "source": [
    "train = pd.read_csv('Data/AAC_In_Out_Final.csv')\n",
    "test = pd.read_csv('Data/AAC_In_Out_Final.csv')\n",
    "train['Outcome Type'].value_counts().plot.bar()\n",
    "test['Outcome Type'].value_counts().plot.bar()"
   ]
  },
  {
   "cell_type": "code",
   "execution_count": 11,
   "metadata": {},
   "outputs": [
    {
     "data": {
      "text/plain": [
       "Animal ID           object\n",
       "Name                object\n",
       "Date of Birth       object\n",
       "Gender              object\n",
       "Color1              object\n",
       "Color2              object\n",
       "Breed1              object\n",
       "Breed2              object\n",
       "Found Street        object\n",
       "Found City          object\n",
       "Found State         object\n",
       "Intake_Date         object\n",
       "Intake Type         object\n",
       "Intake Condition    object\n",
       "Age upon Intake     object\n",
       "Intake_Sex          object\n",
       "Outcome_Date        object\n",
       "Outcome Type        object\n",
       "Age upon Outcome    object\n",
       "Outcome_Sex         object\n",
       "AAC_Duration        object\n",
       "dtype: object"
      ]
     },
     "execution_count": 11,
     "metadata": {},
     "output_type": "execute_result"
    }
   ],
   "source": [
    "#test train data types \n",
    "train.dtypes\n"
   ]
  },
  {
   "cell_type": "code",
   "execution_count": 12,
   "metadata": {},
   "outputs": [
    {
     "data": {
      "text/plain": [
       "Animal ID           object\n",
       "Name                object\n",
       "Date of Birth       object\n",
       "Gender              object\n",
       "Color1              object\n",
       "Color2              object\n",
       "Breed1              object\n",
       "Breed2              object\n",
       "Found Street        object\n",
       "Found City          object\n",
       "Found State         object\n",
       "Intake_Date         object\n",
       "Intake Type         object\n",
       "Intake Condition    object\n",
       "Age upon Intake     object\n",
       "Intake_Sex          object\n",
       "Outcome_Date        object\n",
       "Outcome Type        object\n",
       "Age upon Outcome    object\n",
       "Outcome_Sex         object\n",
       "AAC_Duration        object\n",
       "dtype: object"
      ]
     },
     "execution_count": 12,
     "metadata": {},
     "output_type": "execute_result"
    }
   ],
   "source": [
    "test.dtypes"
   ]
  },
  {
   "cell_type": "code",
   "execution_count": 7,
   "metadata": {},
   "outputs": [
    {
     "name": "stdout",
     "output_type": "stream",
     "text": [
      "Animal ID\n",
      "51885\n",
      "Name\n",
      "10210\n",
      "Date of Birth\n",
      "6207\n",
      "Gender\n",
      "2\n",
      "Color1\n",
      "37\n",
      "Color2\n",
      "37\n",
      "Breed1\n",
      "374\n",
      "Breed2\n",
      "167\n",
      "Found Street\n",
      "31134\n",
      "Found City\n",
      "42\n",
      "Found State\n",
      "16\n",
      "Intake_Date\n",
      "49078\n",
      "Intake Type\n",
      "4\n",
      "Intake Condition\n",
      "10\n",
      "Age upon Intake\n",
      "46\n",
      "Intake_Sex\n",
      "3\n",
      "Outcome_Date\n",
      "55317\n",
      "Outcome Type\n",
      "8\n",
      "Age upon Outcome\n",
      "46\n",
      "Outcome_Sex\n",
      "3\n",
      "AAC_Duration\n",
      "48619\n"
     ]
    }
   ],
   "source": [
    "columns = train.columns\n",
    "for column in columns:\n",
    "    print(column)\n",
    "    print(train[column].nunique())"
   ]
  },
  {
   "cell_type": "code",
   "execution_count": null,
   "metadata": {},
   "outputs": [],
   "source": []
  }
 ],
 "metadata": {
  "kernelspec": {
   "display_name": "Python 36(py36)",
   "language": "python",
   "name": "pythondata"
  },
  "language_info": {
   "codemirror_mode": {
    "name": "ipython",
    "version": 3
   },
   "file_extension": ".py",
   "mimetype": "text/x-python",
   "name": "python",
   "nbconvert_exporter": "python",
   "pygments_lexer": "ipython3",
   "version": "3.6.8"
  }
 },
 "nbformat": 4,
 "nbformat_minor": 4
}
